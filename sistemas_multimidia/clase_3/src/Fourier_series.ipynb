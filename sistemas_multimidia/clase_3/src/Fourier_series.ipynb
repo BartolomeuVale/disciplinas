{
 "cells": [
  {
   "cell_type": "code",
   "execution_count": 14,
   "metadata": {
    "ExecuteTime": {
     "end_time": "2019-10-16T02:02:01.872255Z",
     "start_time": "2019-10-16T02:02:01.861696Z"
    }
   },
   "outputs": [],
   "source": [
    "import numpy as np\n",
    "import matplotlib.pyplot as plt\n",
    "\n",
    "plt.style.use(\"ggplot\")\n",
    "\n",
    "# Setup\n",
    "x_ = np.linspace(-20,20,10000)\n",
    "\n",
    "T = 50\n",
    "armonics = 10\n",
    "\n",
    "def squareWave(x):\n",
    "    global T\n",
    "    lowerBoundLeft = (-T/2)\n",
    "    lowerBoundRight = 0\n",
    "    upperBoundLeft = 0\n",
    "    upperBoundRight = (T/2)\n",
    "    one = 1\n",
    "    negativeOne = -1\n",
    "\n",
    "    while True:\n",
    "        if (x >= lowerBoundLeft) and (x <= lowerBoundRight):\n",
    "            return negativeOne\n",
    "        elif (x >= upperBoundLeft) and (x <= upperBoundRight):\n",
    "            return one\n",
    "        else:\n",
    "            lowerBoundLeft -= T/2\n",
    "            lowerBoundRight -= T/2\n",
    "            upperBoundLeft += T/2\n",
    "            upperBoundRight += T/2\n",
    "            if one == 1:\n",
    "                one = -1\n",
    "                negativeOne = 1\n",
    "            else:\n",
    "                one = 1\n",
    "                negativeOne = -1\n",
    "\n",
    "# Bn coefficients\n",
    "def bn(n):\n",
    "    n = int(n)\n",
    "    if (n%2 != 0):\n",
    "        return 4/(np.pi*n)\n",
    "    else:\n",
    "        return 0\n",
    "\n",
    "# Wn\n",
    "def wn(n):\n",
    "    global T\n",
    "    wn = (2*np.pi*n)/T\n",
    "    return wn\n",
    "\n",
    "# Fourier Series function\n",
    "def fourierSeries(n_max,x):\n",
    "    a0 = 0\n",
    "    partialSums = a0\n",
    "    for n in range(1,n_max):\n",
    "        try:\n",
    "            partialSums = partialSums + bn(n)*np.sin(wn(n)*x)\n",
    "        except:\n",
    "            print(\"pass\")\n",
    "            pass\n",
    "    return partialSums\n",
    "\n"
   ]
  },
  {
   "cell_type": "code",
   "execution_count": 11,
   "metadata": {
    "ExecuteTime": {
     "end_time": "2019-10-16T01:59:17.832620Z",
     "start_time": "2019-10-16T01:59:17.388959Z"
    }
   },
   "outputs": [
    {
     "data": {
      "image/png": "[encoded data removed]",
      "text/plain": [
       "<Figure size 432x288 with 1 Axes>"
      ]
     },
     "metadata": {
      "needs_background": "light"
     },
     "output_type": "display_data"
    }
   ],
   "source": [
    "T = 50\n",
    "armonics = 2\n",
    "y = []\n",
    "f = []\n",
    "for i in x_:\n",
    "    y.append(squareWave(i))\n",
    "    f.append(fourierSeries(armonics,i))\n",
    "\n",
    "\n",
    "plt.plot(x_,y,color=\"blue\",label=\"Signal\")\n",
    "plt.plot(x_,f,color=\"red\",label=\"Fourier series approximation\")\n",
    "plt.title(\"Fourier Series approximation number of armonics: \"+str(armonics))\n",
    "plt.legend()\n",
    "plt.show()"
   ]
  }
 ],
 "metadata": {
  "kernelspec": {
   "display_name": "Python 3",
   "language": "python",
   "name": "python3"
  },
  "language_info": {
   "codemirror_mode": {
    "name": "ipython",
    "version": 3
   },
   "file_extension": ".py",
   "mimetype": "text/x-python",
   "name": "python",
   "nbconvert_exporter": "python",
   "pygments_lexer": "ipython3",
   "version": "3.5.3"
  }
 },
 "nbformat": 4,
 "nbformat_minor": 2
}

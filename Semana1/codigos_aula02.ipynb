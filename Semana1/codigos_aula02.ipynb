{
 "cells": [
  {
   "cell_type": "code",
   "execution_count": 2,
   "metadata": {
    "ExecuteTime": {
     "end_time": "2019-05-26T14:15:37.235820Z",
     "start_time": "2019-05-26T14:15:36.982439Z"
    }
   },
   "outputs": [],
   "source": [
    "import matplotlib.pyplot as plt\n",
    "import cv2\n",
    "import numpy as np"
   ]
  },
  {
   "cell_type": "code",
   "execution_count": 3,
   "metadata": {
    "ExecuteTime": {
     "end_time": "2019-05-26T14:14:51.763418Z",
     "start_time": "2019-05-26T14:14:51.614595Z"
    },
    "scrolled": true
   },
   "outputs": [
    {
     "data": {
      "image/png": "[encoded data removed]",
      "text/plain": [
       "<Figure size 432x288 with 1 Axes>"
      ]
     },
     "metadata": {},
     "output_type": "display_data"
    }
   ],
   "source": [
    "x = [2,5,8,2]\n",
    "y = [2,8,2,2]\n",
    "plt.plot(x,y)\n",
    "plt.show()"
   ]
  },
  {
   "cell_type": "code",
   "execution_count": null,
   "metadata": {
    "ExecuteTime": {
     "start_time": "2019-05-26T14:00:45.284Z"
    }
   },
   "outputs": [
    {
     "name": "stdout",
     "output_type": "stream",
     "text": [
      "(1500, 1500, 3)\n"
     ]
    }
   ],
   "source": [
    "import cv2\n",
    "import numpy as np\n",
    "img = cv2.imread('nemo.jpg') # abrindo imagem\n",
    "print(img.shape) # geometria da imagem\n",
    "\n",
    "# mudando a cor em uma determinada posição \n",
    "img[200:400,100:200,0] = 0\n",
    "img[200:400,100:200,1] = 255\n",
    "img[200:400,100:200,2] = 0\n",
    "\n",
    "# Display Image\n",
    "cv2.imshow('image',img)\n",
    "cv2.waitKey(0)\n",
    "cv2.destroyAllWindows()"
   ]
  },
  {
   "cell_type": "code",
   "execution_count": null,
   "metadata": {
    "ExecuteTime": {
     "start_time": "2019-05-26T14:14:58.728Z"
    }
   },
   "outputs": [],
   "source": [
    "# VERSÃO SALA DE AULA\n",
    "# cria matriz tridimensional branca\n",
    "imgX = np.ones([600,600,3]) \n",
    "\n",
    "# copia para a variavel output\n",
    "output = imgX.copy()\n",
    "\n",
    "'''\n",
    "cria formas geometricas\n",
    "cv2.objeto(area, coordena_1, coordenada_2, cor, traço)\n",
    "''' \n",
    "\n",
    "#----------------------->> cria as linhas no formato de X <<-----------------------#\n",
    "cv2.line(output, (0,0), (600,600), (0,0,255), 1)\n",
    "cv2.line(output, (0,600), (600,0), (0,0,255), 1)\n",
    "\n",
    "#------------------------------>> cria o retangulo <<------------------------------#\n",
    "cv2.rectangle(output, (275,275), (325,325), (0,0,255), 1)\n",
    "\n",
    "#------------------------>> cria linhas verticais abaixo <<------------------------#\n",
    "for i in range(12):\n",
    "    cv2.line(output, (300,300), (i*50,600), (0,0,255), 1)\n",
    "\n",
    "#----------------------->> cria linhas verticais acima <<--------------------------#\n",
    "for i in range(12):\n",
    "    cv2.line(output, (300,300), (i*50,0), (0,0,255), 1)\n",
    "\n",
    "#----------------------->> cria linhas horizontais abaixo <<-----------------------#\n",
    "for i in range(6):\n",
    "    cv2.line(output, (50+i*50, 550-i*50), (550-i*50, 550-i*50), (0,0,255), 1)\n",
    "\n",
    "#----------------------->> cria linhas horizontais acima <<------------------------#\n",
    "for i in range(6):\n",
    "    cv2.line(output, (i*50, i*50), (600-i*50, i*50), (0,0,255), 1)\n",
    "\n",
    "#--------------------->> cria linhas verticais lado esquerdo <<--------------------#\n",
    "for i in range(6):\n",
    "    cv2.line(output, (i*50, i*50), (i*50, 600-i*50), (0,0,255), 1)\n",
    "\n",
    "#--------------------->> cria linhas verticais lado direito <<---------------------#\n",
    "for i in range(6):\n",
    "    cv2.line(output, (600-i*50, 600-i*50), (600-i*50, i*50), (0,0,255), 1)\n",
    "\n",
    "#------------------->> cria linhas horizontais lado esquerdo <<--------------------#\n",
    "for i in range(12):\n",
    "    cv2.line(output, (300, 300), (0, i*50), (0,0,255), 1)\n",
    "\n",
    "#-------------------->> cria linhas horizontais lado direito <<--------------------#\n",
    "for i in range(12):\n",
    "    cv2.line(output, (300, 300), (600, i*50), (0,0,255), 1)\n",
    "    \n",
    "# cria mais linhas horizontais\n",
    "'''\n",
    "cv2.line(output, (225, 375), (375, 375), (0,0,255), 1)\n",
    "cv2.line(output, (240, 360), (360, 360), (0,0,255), 1)\n",
    "cv2.line(output, (260, 340), (340, 340), (0,0,255), 1)\n",
    "'''\n",
    "\n",
    "#--------------------->> cria o entorno da 'porta' em branco <<-------------------#\n",
    "output[276:325,276:325,0] = 255\n",
    "output[276:325,276:325,1] = 255\n",
    "output[276:325,276:325,2] = 255\n",
    "\n",
    "#-------------------------->> cria a 'porta' em preto <<--------------------------#\n",
    "output[290:324,286:312,0] = 0\n",
    "output[290:324,286:312,1] = 0\n",
    "output[290:324,286:312,2] = 0\n",
    "\n",
    "#------------------------------>> cria a marcaneta <<-----------------------------#\n",
    "cv2.circle(output, (305,310), 3, (255,255,255), -1)\n",
    "\n",
    "# Display Image\n",
    "cv2.imshow('corredor',output)\n",
    "cv2.waitKey(0)\n",
    "cv2.destroyAllWindows()\n"
   ]
  },
  {
   "cell_type": "code",
   "execution_count": 5,
   "metadata": {
    "ExecuteTime": {
     "end_time": "2019-05-26T14:16:15.095189Z",
     "start_time": "2019-05-26T14:16:12.917795Z"
    }
   },
   "outputs": [],
   "source": [
    "# VERSÃO 01 - NATÁLIA ARAÚJO\n",
    "# cria matriz tridimensional branca\n",
    "imgX = np.ones([600,600,3]) \n",
    "\n",
    "# copia para a variavel output\n",
    "output = imgX.copy()\n",
    "\n",
    "'''\n",
    "cria formas geometricas\n",
    "cv2.objeto(area, coordena_1, coordenada_2, cor, traço)\n",
    "''' \n",
    "\n",
    "#----------------------->> cria as linhas no formato de X <<-----------------------#\n",
    "cv2.line(output, (0,0), (600,600), (0,0,255), 1)\n",
    "cv2.line(output, (0,600), (600,0), (0,0,255), 1)\n",
    "\n",
    "#------------------------------>> cria o retangulo <<------------------------------#\n",
    "cv2.rectangle(output, (275,275), (325,325), (0,0,255), 1)\n",
    "\n",
    "#------------------------>> cria linhas verticais abaixo <<------------------------#\n",
    "for i in range(12):\n",
    "    cv2.line(output, (300,300), (i*50,600), (0,0,255), 1)\n",
    "\n",
    "#----------------------->> cria linhas verticais acima <<--------------------------#\n",
    "for i in range(12):\n",
    "    cv2.line(output, (300,300), (i*50,0), (0,0,255), 1)\n",
    "\n",
    "#----------------------->> cria linhas horizontais abaixo <<-----------------------#\n",
    "for i in range(12):\n",
    "    cv2.line(output, (25+i*25, 575-i*25), (575-i*25, 575-i*25), (0,0,255), 1)\n",
    "\n",
    "#----------------------->> cria linhas horizontais acima <<------------------------#\n",
    "for i in range(12):\n",
    "    cv2.line(output, (i*25, i*25), (600-i*25, i*25), (0,0,255), 1)\n",
    "\n",
    "#--------------------->> cria linhas verticais lado esquerdo <<--------------------#\n",
    "for i in range(12):\n",
    "    cv2.line(output, (i*25, i*25), (i*25, 600-i*25), (0,0,255), 1)\n",
    "\n",
    "#--------------------->> cria linhas verticais lado direito <<---------------------#\n",
    "for i in range(12):\n",
    "    cv2.line(output, (600-i*25, 600-i*25), (600-i*25, i*25), (0,0,255), 1)\n",
    "\n",
    "#------------------->> cria linhas horizontais lado esquerdo <<--------------------#\n",
    "for i in range(12):\n",
    "    cv2.line(output, (300, 300), (0, i*50), (0,0,255), 1)\n",
    "\n",
    "#-------------------->> cria linhas horizontais lado direito <<--------------------#\n",
    "for i in range(12):\n",
    "    cv2.line(output, (300, 300), (600, i*50), (0,0,255), 1)\n",
    "\n",
    "#--------------------->> cria o entorno da 'porta' em branco <<-------------------#\n",
    "output[276:325,276:325,0] = 255\n",
    "output[276:325,276:325,1] = 255\n",
    "output[276:325,276:325,2] = 255\n",
    "\n",
    "#-------------------------->> cria a 'porta' em preto <<--------------------------#\n",
    "output[290:324,286:312,0] = 0\n",
    "output[290:324,286:312,1] = 0\n",
    "output[290:324,286:312,2] = 0\n",
    "\n",
    "#------------------------------>> cria a marcaneta <<-----------------------------#\n",
    "cv2.circle(output, (305,310), 3, (255,255,255), -1)\n",
    "\n",
    "# Display Image\n",
    "cv2.imshow('corredor',output)\n",
    "cv2.waitKey(0)\n",
    "cv2.destroyAllWindows()\n"
   ]
  },
  {
   "cell_type": "code",
   "execution_count": 4,
   "metadata": {
    "ExecuteTime": {
     "end_time": "2019-05-26T14:16:08.802533Z",
     "start_time": "2019-05-26T14:16:06.146080Z"
    }
   },
   "outputs": [],
   "source": [
    "# VERSÃO 02 - NATÁLIA ARAÚJO\n",
    "# cria matriz tridimensional branca\n",
    "imgX = np.ones([600,600,3]) \n",
    "\n",
    "# copia para a variavel output\n",
    "output = imgX.copy()\n",
    "\n",
    "'''\n",
    "cria formas geometricas\n",
    "cv2.objeto(area, coordena_1, coordenada_2, cor, traço)\n",
    "''' \n",
    "\n",
    "#----------------------->> cria as linhas no formato de X <<-----------------------#\n",
    "cv2.line(output, (0,0), (600,600), (0,0,255), 1)\n",
    "cv2.line(output, (0,600), (600,0), (0,0,255), 1)\n",
    "\n",
    "#------------------------------>> cria o retangulo <<------------------------------#\n",
    "cv2.rectangle(output, (275,275), (325,325), (0,0,255), 1)\n",
    "\n",
    "for i in range(12):\n",
    "    #------------------------>> cria linhas verticais abaixo <<------------------------#\n",
    "    cv2.line(output, (300,300), (i*50,600), (0,0,255), 1)\n",
    "    \n",
    "    #----------------------->> cria linhas horizontais abaixo <<-----------------------#\n",
    "    cv2.line(output, (25+i*25, 575-i*25), (575-i*25, 575-i*25), (0,0,255), 1)\n",
    "    \n",
    "    \n",
    "    #----------------------->> cria linhas verticais acima <<--------------------------#\n",
    "    cv2.line(output, (300,300), (i*50,0), (0,0,255), 1)\n",
    "\n",
    "    #----------------------->> cria linhas horizontais acima <<------------------------#\n",
    "    cv2.line(output, (i*25, i*25), (600-i*25, i*25), (0,0,255), 1)\n",
    "    \n",
    "    \n",
    "    #--------------------->> cria linhas verticais lado esquerdo <<--------------------#\n",
    "    cv2.line(output, (i*25, i*25), (i*25, 600-i*25), (0,0,255), 1)\n",
    "    \n",
    "    #------------------->> cria linhas horizontais lado esquerdo <<--------------------#\n",
    "    cv2.line(output, (300, 300), (0, i*50), (0,0,255), 1)\n",
    "    \n",
    "    \n",
    "    #--------------------->> cria linhas verticais lado direito <<---------------------#\n",
    "    cv2.line(output, (600-i*25, 600-i*25), (600-i*25, i*25), (0,0,255), 1)\n",
    "    \n",
    "    #-------------------->> cria linhas horizontais lado direito <<--------------------#\n",
    "    cv2.line(output, (300, 300), (600, i*50), (0,0,255), 1)\n",
    "\n",
    "\n",
    "#--------------------->> cria o entorno da 'porta' em branco <<-------------------#\n",
    "output[276:325,276:325,0] = 255\n",
    "output[276:325,276:325,1] = 255\n",
    "output[276:325,276:325,2] = 255\n",
    "\n",
    "#-------------------------->> cria a 'porta' em preto <<--------------------------#\n",
    "output[290:324,286:312,0] = 0\n",
    "output[290:324,286:312,1] = 0\n",
    "output[290:324,286:312,2] = 0\n",
    "\n",
    "#-------------------------->> cria a 'janela' em branco <<--------------------------#\n",
    "output[235:300,102:150,0] = 255\n",
    "output[235:300,102:150,1] = 255\n",
    "output[235:300,102:150,2] = 255\n",
    "\n",
    "#--------------------->> cria o entorno da 'janela' em preto <<-------------------#\n",
    "#vertical\n",
    "cv2.line(output, (150, 250), (150, 300), (0,0,0), 5)\n",
    "cv2.line(output, (100, 225), (100, 300), (0,0,0), 5)\n",
    "#horizontal\n",
    "cv2.line(output, (150, 250), (100, 225), (0,0,0), 5)\n",
    "cv2.line(output, (150, 300), (100, 300), (0,0,0), 5)\n",
    "\n",
    "#------------------------------>> cria a marcaneta <<-----------------------------#\n",
    "cv2.circle(output, (305,310), 3, (255,255,255), -1)\n",
    "\n",
    "# Display Image\n",
    "cv2.imshow('Corredor_da_Taia',output)\n",
    "cv2.waitKey(0)\n",
    "cv2.destroyAllWindows()"
   ]
  },
  {
   "cell_type": "code",
   "execution_count": null,
   "metadata": {},
   "outputs": [],
   "source": []
  },
  {
   "cell_type": "code",
   "execution_count": null,
   "metadata": {},
   "outputs": [],
   "source": []
  },
  {
   "cell_type": "code",
   "execution_count": null,
   "metadata": {},
   "outputs": [],
   "source": []
  },
  {
   "cell_type": "code",
   "execution_count": null,
   "metadata": {},
   "outputs": [],
   "source": []
  }
 ],
 "metadata": {
  "kernelspec": {
   "display_name": "Python 3",
   "language": "python",
   "name": "python3"
  },
  "language_info": {
   "codemirror_mode": {
    "name": "ipython",
    "version": 3
   },
   "file_extension": ".py",
   "mimetype": "text/x-python",
   "name": "python",
   "nbconvert_exporter": "python",
   "pygments_lexer": "ipython3",
   "version": "3.6.8"
  }
 },
 "nbformat": 4,
 "nbformat_minor": 2
}
